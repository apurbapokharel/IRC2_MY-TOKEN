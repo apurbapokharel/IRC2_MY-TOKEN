{
 "cells": [
  {
   "cell_type": "code",
   "execution_count": 2,
   "metadata": {},
   "outputs": [],
   "source": [
    "from iconsdk.exception import JSONRPCException\n",
    "from iconsdk.libs.in_memory_zip import gen_deploy_data_content\n",
    "from iconsdk.icon_service import IconService\n",
    "from iconsdk.providers.http_provider import HTTPProvider\n",
    "from iconsdk.builder.transaction_builder import CallTransactionBuilder, TransactionBuilder, DeployTransactionBuilder\n",
    "from iconsdk.builder.call_builder import CallBuilder\n",
    "from iconsdk.signed_transaction import SignedTransaction\n",
    "from iconsdk.wallet.wallet import KeyWallet\n",
    "from iconsdk.utils.convert_type import convert_hex_str_to_int\n",
    "from repeater import retry\n",
    "import requests\n",
    "import json\n",
    "import pickle\n",
    "import csv\n",
    "import os"
   ]
  },
  {
   "cell_type": "code",
   "execution_count": 3,
   "metadata": {},
   "outputs": [],
   "source": [
    "icon_service = IconService(HTTPProvider(\"https://bicon.net.solidwallet.io\", 3))\n",
    "NID = 3\n",
    "GOVERNANCE_ADDRESS = \"cx0000000000000000000000000000000000000000\""
   ]
  },
  {
   "cell_type": "code",
   "execution_count": 10,
   "metadata": {},
   "outputs": [
    {
     "name": "stdout",
     "output_type": "stream",
     "text": [
      "hx3ebaf06e2ee517155c879692461872f51b7b1e17\n"
     ]
    }
   ],
   "source": [
    "wallet = KeyWallet.load(\"./assets/keystore.json\",\"qwerty12345!\")\n",
    "print(wallet.get_address())"
   ]
  },
  {
   "cell_type": "code",
   "execution_count": 11,
   "metadata": {},
   "outputs": [
    {
     "name": "stdout",
     "output_type": "stream",
     "text": [
      "0xfe05d14849a6fb342137680e855823b0478ddff2b2e7cfb016317a6991d0472b\n"
     ]
    }
   ],
   "source": [
    "deploy_transaction = DeployTransactionBuilder()\\\n",
    "    .from_(wallet.get_address())\\\n",
    "    .to(GOVERNANCE_ADDRESS)\\\n",
    "    .nid(NID)\\\n",
    "    .nonce(100)\\\n",
    "    .content_type(\"application/zip\")\\\n",
    "    .content(gen_deploy_data_content('MYT.zip'))\\\n",
    "    .build()\n",
    "\n",
    "estimate_step = icon_service.estimate_step(deploy_transaction)\n",
    "step_limit = estimate_step + 100000\n",
    "signed_transaction = SignedTransaction(deploy_transaction, wallet, step_limit)\n",
    "\n",
    "tx_hash = icon_service.send_transaction(signed_transaction)\n",
    "\n",
    "print(tx_hash)"
   ]
  },
  {
   "cell_type": "code",
   "execution_count": null,
   "metadata": {},
   "outputs": [],
   "source": []
  }
 ],
 "metadata": {
  "kernelspec": {
   "display_name": "Python 3",
   "language": "python",
   "name": "python3"
  },
  "language_info": {
   "codemirror_mode": {
    "name": "ipython",
    "version": 3
   },
   "file_extension": ".py",
   "mimetype": "text/x-python",
   "name": "python",
   "nbconvert_exporter": "python",
   "pygments_lexer": "ipython3",
   "version": "3.8.5"
  }
 },
 "nbformat": 4,
 "nbformat_minor": 4
}
